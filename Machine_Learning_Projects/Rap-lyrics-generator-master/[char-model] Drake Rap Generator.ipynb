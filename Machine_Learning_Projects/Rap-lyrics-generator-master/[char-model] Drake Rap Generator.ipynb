{
 "cells": [
  {
   "cell_type": "code",
   "execution_count": 5,
   "metadata": {},
   "outputs": [],
   "source": [
    "from __future__ import print_function\n",
    "from keras.callbacks import LambdaCallback\n",
    "from keras.models import Sequential\n",
    "from keras.layers import Dense, Activation\n",
    "from keras.layers import LSTM\n",
    "from keras.optimizers import RMSprop, Adam\n",
    "from keras.utils.data_utils import get_file\n",
    "import numpy as np\n",
    "import pandas as pd\n",
    "import random\n",
    "import sys\n",
    "import io\n",
    "import re"
   ]
  },
  {
   "cell_type": "code",
   "execution_count": 7,
   "metadata": {},
   "outputs": [],
   "source": [
    "songs = pd.read_csv('drake-songs.csv')"
   ]
  },
  {
   "cell_type": "code",
   "execution_count": 8,
   "metadata": {},
   "outputs": [
    {
     "data": {
      "text/plain": [
       "367372"
      ]
     },
     "execution_count": 8,
     "metadata": {},
     "output_type": "execute_result"
    }
   ],
   "source": [
    "text = ''\n",
    "\n",
    "for index, row in songs['lyrics'].iteritems():\n",
    "    cleaned = str(row).lower().replace(' ', '\\n')\n",
    "    text = text + \" \".join(re.findall(r\"[a-z']+\", cleaned))\n",
    "    \n",
    "len(text)"
   ]
  },
  {
   "cell_type": "code",
   "execution_count": 9,
   "metadata": {},
   "outputs": [
    {
     "name": "stdout",
     "output_type": "stream",
     "text": [
      "total chars: 28\n"
     ]
    }
   ],
   "source": [
    "import re\n",
    "\n",
    "tokens = re.findall(r\"[a-z'\\s]\", text)\n",
    "\n",
    "chars = sorted(list(set(tokens)))\n",
    "print('total chars:', len(chars))\n",
    "char_indices = dict((c, i) for i, c in enumerate(chars))\n",
    "indices_char = dict((i, c) for i, c in enumerate(chars))"
   ]
  },
  {
   "cell_type": "code",
   "execution_count": 10,
   "metadata": {
    "scrolled": true
   },
   "outputs": [
    {
     "data": {
      "text/plain": [
       "[' ',\n",
       " \"'\",\n",
       " 'a',\n",
       " 'b',\n",
       " 'c',\n",
       " 'd',\n",
       " 'e',\n",
       " 'f',\n",
       " 'g',\n",
       " 'h',\n",
       " 'i',\n",
       " 'j',\n",
       " 'k',\n",
       " 'l',\n",
       " 'm',\n",
       " 'n',\n",
       " 'o',\n",
       " 'p',\n",
       " 'q',\n",
       " 'r',\n",
       " 's',\n",
       " 't',\n",
       " 'u',\n",
       " 'v',\n",
       " 'w',\n",
       " 'x',\n",
       " 'y',\n",
       " 'z']"
      ]
     },
     "execution_count": 10,
     "metadata": {},
     "output_type": "execute_result"
    }
   ],
   "source": [
    "chars"
   ]
  },
  {
   "cell_type": "code",
   "execution_count": 11,
   "metadata": {
    "scrolled": true
   },
   "outputs": [
    {
     "name": "stdout",
     "output_type": "stream",
     "text": [
      "nb sequences: 122444\n"
     ]
    }
   ],
   "source": [
    "\n",
    "maxlen = 40\n",
    "step = 3\n",
    "sentences = []\n",
    "next_chars = []\n",
    "\n",
    "for i in range(0, len(text) - maxlen, step):\n",
    "    sentences.append(text[i: i + maxlen])\n",
    "    next_chars.append(text[i + maxlen])\n",
    "    \n",
    "print('nb sequences:', len(sentences))"
   ]
  },
  {
   "cell_type": "code",
   "execution_count": 12,
   "metadata": {},
   "outputs": [],
   "source": [
    "\n",
    "\n",
    "x = np.zeros((len(sentences), maxlen, len(chars)), dtype=np.bool)\n",
    "y = np.zeros((len(sentences), len(chars)), dtype=np.bool)\n",
    "\n",
    "for i, sentence in enumerate(sentences):\n",
    "    for t, char in enumerate(sentence):\n",
    "        x[i, t, char_indices[char]] = 1\n",
    "    y[i, char_indices[next_chars[i]]] = 1"
   ]
  },
  {
   "cell_type": "code",
   "execution_count": 13,
   "metadata": {},
   "outputs": [
    {
     "name": "stdout",
     "output_type": "stream",
     "text": [
      "Build model...\n"
     ]
    }
   ],
   "source": [
    "\n",
    "print('Build model...')\n",
    "model = Sequential()\n",
    "model.add(LSTM(128, input_shape=(maxlen, len(chars))))\n",
    "model.add(Dense(len(chars)))\n",
    "model.add(Activation('softmax'))\n",
    "\n",
    "model.compile(loss='categorical_crossentropy', optimizer=RMSprop(lr=0.01))"
   ]
  },
  {
   "cell_type": "code",
   "execution_count": 14,
   "metadata": {},
   "outputs": [
    {
     "name": "stdout",
     "output_type": "stream",
     "text": [
      "_________________________________________________________________\n",
      "Layer (type)                 Output Shape              Param #   \n",
      "=================================================================\n",
      "lstm_1 (LSTM)                (None, 128)               80384     \n",
      "_________________________________________________________________\n",
      "dense_1 (Dense)              (None, 28)                3612      \n",
      "_________________________________________________________________\n",
      "activation_1 (Activation)    (None, 28)                0         \n",
      "=================================================================\n",
      "Total params: 83,996\n",
      "Trainable params: 83,996\n",
      "Non-trainable params: 0\n",
      "_________________________________________________________________\n"
     ]
    }
   ],
   "source": [
    "model.summary()"
   ]
  },
  {
   "cell_type": "code",
   "execution_count": 15,
   "metadata": {},
   "outputs": [],
   "source": [
    "def sample(preds, temperature=1.0):\n",
    "    preds = np.asarray(preds).astype('float64')\n",
    "    preds = np.log(preds) / temperature\n",
    "    exp_preds = np.exp(preds)\n",
    "    preds = exp_preds / np.sum(exp_preds)\n",
    "    probas = np.random.multinomial(1, preds, 1)\n",
    "    return np.argmax(probas)"
   ]
  },
  {
   "cell_type": "code",
   "execution_count": 16,
   "metadata": {},
   "outputs": [],
   "source": [
    "def on_epoch_end(epoch, logs):\n",
    "    print('----- Generating text after Epoch: %d' % epoch)\n",
    "\n",
    "    start_index = random.randint(0, len(text) - maxlen - 1)\n",
    "    for diversity in [0.2, 0.5]:\n",
    "        print('----- diversity:', diversity)\n",
    "\n",
    "        generated = ''\n",
    "        sentence = text[start_index: start_index + maxlen]\n",
    "        generated += sentence\n",
    "        print('----- Generating with seed: \"' + sentence + '\"')\n",
    "        sys.stdout.write(generated)\n",
    "\n",
    "        for i in range(400):\n",
    "            x_pred = np.zeros((1, maxlen, len(chars)))\n",
    "            for t, char in enumerate(sentence):\n",
    "                x_pred[0, t, char_indices[char]] = 1.\n",
    "\n",
    "            preds = model.predict(x_pred, verbose=0)[0]\n",
    "            next_index = sample(preds, diversity)\n",
    "            next_char = indices_char[next_index]\n",
    "\n",
    "            generated += next_char\n",
    "            sentence = sentence[1:] + next_char\n",
    "\n",
    "            sys.stdout.write(next_char)\n",
    "            sys.stdout.flush()\n",
    "        print()"
   ]
  },
  {
   "cell_type": "code",
   "execution_count": 17,
   "metadata": {},
   "outputs": [
    {
     "name": "stdout",
     "output_type": "stream",
     "text": [
      "Epoch 1/10\n",
      "122444/122444 [==============================] - 47s 383us/step - loss: 1.8612\n",
      "----- Generating text after Epoch: 0\n",
      "----- diversity: 0.2\n",
      "----- Generating with seed: \"it means all i see is fireworks all i se\"\n",
      "it means all i see is fireworks all i see i started it i wanna the money the chise i still i stoped to my how i'm the prince to my fickin' a started i don't the beat it i stope it i see i don't the money the beat the money i see i'm so my like the mine the more and the money the the but i don't the more for my fack it i see i'm the money i don't the mome it i see the more it i don't the money the cheate it the more the more i wanna the \n",
      "----- diversity: 0.5\n",
      "----- Generating with seed: \"it means all i see is fireworks all i se\"\n",
      "it means all i see is fireworks all i sear the prory on the my kees this i wishin' you down with my lite i been a nigga told my niggas i could i told is a but the back and i stike the me around that i see to my let tell my pars it i see my best it shit shit the me i don't know they back it it i seard to cause i'm a while the hure it's me i a starten of you could be somesters i dee some i say a meary what it i'm everything then with the \n",
      "Epoch 2/10\n",
      "122444/122444 [==============================] - 44s 360us/step - loss: 1.5137\n",
      "----- Generating text after Epoch: 1\n",
      "----- diversity: 0.2\n",
      "----- Generating with seed: \"shia cole and t i and young dro was popp\"\n",
      "shia cole and t i and young dro was poppin' and i start that i be the streatle for the chose i want the streated and i want the the class i got the money the shit i do the way i can't be the close i be and the streated i be i want the shit i got the way i be and i take the way i start and the the how you know you know you know you know you know you're the streated the shit i want the the things that i start the way it's okay it's okay i\n",
      "----- diversity: 0.5\n",
      "----- Generating with seed: \"shia cole and t i and young dro was popp\"\n",
      "shia cole and t i and young dro was poppin' i'm a way i'm the crays i be with i wont the streating up and my exice when i'm the one me all the boke for and i'm talkin' make the i be the shot it's streated i deare no the way it's lood for the thing i can't say my the with the ten she start that i'm on the close it make my carder i want the thing be when you got a start this she fack your hand a cast your more that i want the way i know t\n",
      "Epoch 3/10\n",
      "122444/122444 [==============================] - 45s 364us/step - loss: 1.4155\n",
      "----- Generating text after Epoch: 2\n",
      "----- diversity: 0.2\n",
      "----- Generating with seed: \"in the kid they get on my motherfucking \"\n",
      "in the kid they get on my motherfucking the same the monty i got me forever was to got my partent i want the shout the bard i want the momma i stand me and i want the shit i got me and i do it it i got me to me the who i got me the shit i want the some i do it it i got me the back the whole been the bottom now me and the bight the same one thing all my fickin' on the shit i got me to get it i got me the bight to me the shit i got me the\n",
      "----- diversity: 0.5\n",
      "----- Generating with seed: \"in the kid they get on my motherfucking \"\n",
      "in the kid they get on my motherfucking the low we all i was be was baby i staic on my surches be and my fice the momia like who i trip thing i would dancess to do it i don't needen stance i know i told my all to got me baby stanch for me they need someone it you want to changus one the bestenter money i get it of my thing you got my momma my bro get it i got some i do it like and i i tring thing the show you no no not forever i canna o\n",
      "Epoch 4/10\n",
      "122444/122444 [==============================] - 44s 361us/step - loss: 1.3571\n",
      "----- Generating text after Epoch: 3\n",
      "----- diversity: 0.2\n",
      "----- Generating with seed: \"of my story but you wouldn't believe it \"\n",
      "of my story but you wouldn't believe it and the store the store the better better better that i got me the store the classe we gon' that i think i still yeah that i live a lot in the store the classion that i got me they love me they gon' i could be i got the best i got the breach they don't got me they thing i gotta drink i still i come me the bread the best you the bitches that i got the store the won't true to the greater i got the b\n",
      "----- diversity: 0.5\n",
      "----- Generating with seed: \"of my story but you wouldn't believe it \"\n",
      "of my story but you wouldn't believe it that i don't stapt to give that i still like a contressions to me me recond all here that i'm the way i see a bottom now that i see i store to get it that i got the store then i got a gong it a sance i had the things and i got you me and the drink a heard you like the girl a same i'm callle was listy to me that you know they really really know here that i won't be fine you we gotta go to the she r\n",
      "Epoch 5/10\n",
      "122444/122444 [==============================] - 46s 374us/step - loss: 1.3196\n",
      "----- Generating text after Epoch: 4\n",
      "----- diversity: 0.2\n",
      "----- Generating with seed: \" baby you finer than your fine cousin an\"\n",
      " baby you finer than your fine cousin and i wanna say it i get it i got the world to see the thing they need some really got the money they got the whole thing they got the body they need some really been on the body the things they know you know you know you gotta say it they got a lot of me i don't wanna be and the fuck all the whole thing i got something where you wanna see the world to see it i got a say the things they can't stay i\n",
      "----- diversity: 0.5\n",
      "----- Generating with seed: \" baby you finer than your fine cousin an\"\n",
      " baby you finer than your fine cousin and them we got the money no no no now no the way it want it got the boys look with the money they got the kid i still see the how that you're make some bread and buy the ball i know i see i love a phone me i just done i can't remember on the game i'm the take is of the where you're say the ball i get it i been the through what you're all the back to your niggas for me could can't stay the hame me t\n",
      "Epoch 6/10\n",
      "122444/122444 [==============================] - 52s 428us/step - loss: 1.2913\n",
      "----- Generating text after Epoch: 5\n",
      "----- diversity: 0.2\n",
      "----- Generating with seed: \"ngs we need some really big rings i got \"\n",
      "ngs we need some really big rings i got it i get it i can't be the closent i said i'm the part the closed to the control a bout the close the closent i could be the close me down i'm the controlla tell me the control a bought it i can't be right and i still and i don't even go how they know they'ret i be a faming and i could niggas i can tell the same things they know i'm the control a way for the close it i can tell the short the close\n",
      "----- diversity: 0.5\n",
      "----- Generating with seed: \"ngs we need some really big rings i got \"\n",
      "ngs we need some really big rings i got the since my to be the cream on the same and i won't wanna i be a same on i'm on one they need to good i want to be fucking like a countin' like a something i'm to a for some night they say you know you the city it's about off the can't even gon' this shit i don't feel the contrack on to me down i don't said i can't go man i don't get in the crip i could have to have for the finoot i need some bod\n",
      "Epoch 7/10\n",
      "122444/122444 [==============================] - 44s 357us/step - loss: 1.2677\n",
      "----- Generating text after Epoch: 6\n",
      "----- diversity: 0.2\n",
      "----- Generating with seed: \"urn i really used to feel like they love\"\n",
      "urn i really used to feel like they love me that you the way the got you that i wanna do it i get it i get it i can't see the bottom now yeah i'm trying the bad the bottom now i don't know it i get it it i get it it i get it it i can't say i wanna do it i get it it i get it i get it i get it it when i wanna be a staring you the trup i know that you the word a live the buse you back to my live it i know how you feelin' the way i'm trying\n",
      "----- diversity: 0.5\n",
      "----- Generating with seed: \"urn i really used to feel like they love\"\n"
     ]
    },
    {
     "name": "stdout",
     "output_type": "stream",
     "text": [
      "urn i really used to feel like they love it i take it they live like my that you the fuckin' and i see me on my i'm a mind's something i wanna see thing and i'mma on the way the stoo lackin' on the shopling all the a smoke i don't know what it that shit that's on over the could be the world time i back the jumpmay in the would say how you know you the would be so is and here staring that i wanna do of the that i could be the face with t\n",
      "Epoch 8/10\n",
      "122444/122444 [==============================] - 45s 371us/step - loss: 1.2516\n",
      "----- Generating text after Epoch: 7\n",
      "----- diversity: 0.2\n",
      "----- Generating with seed: \" over crumbs where the bread at how they\"\n",
      " over crumbs where the bread at how they got it all the shot the bight and i'm the show the came i don't be the same i got me give you do you should take the shot the money the fince the shunin' and i don't say you don't trying to be the show i'm the same i don't need the came i got a shots to back the money the same i don't trying to be the way i can say it all a distring that i got the show the shoot i should thank me and i got my sho\n",
      "----- diversity: 0.5\n",
      "----- Generating with seed: \" over crumbs where the bread at how they\"\n",
      " over crumbs where the bread at how they can't say the shopt the came whise i'm gonna never love but and the guess i wasn't be fine you should wind i'm a lot of someone come like my baby why you could take the end like we start that you know how me and she go i got the bent me and i'm been on the world me back that shit like a sall with me that i was the sees the came on my love it with you have been and i got the good like a man all th\n",
      "Epoch 9/10\n",
      "122444/122444 [==============================] - 45s 368us/step - loss: 1.2356\n",
      "----- Generating text after Epoch: 8\n",
      "----- diversity: 0.2\n",
      "----- Generating with seed: \"ke i will my only wish is i die real cau\"\n",
      "ke i will my only wish is i die real cause the bottom now we got to be the bottom now we got to be the bottom now i gotta seart the things i got the bottom now the whole team with me don't say you don't wanna get it i gotta both see me that shit is go to the way i don't want to go to the groughts we got someone for me i got the bottom now we got to be the bottom now the things i got to be started i got the bottom now we got to be the bo\n",
      "----- diversity: 0.5\n",
      "----- Generating with seed: \"ke i will my only wish is i die real cau\"\n",
      "ke i will my only wish is i die real cause i make it i just want to though to your send i said it work to i'm but i don't want to make it that's all at why i'm back to my eithes how did i gotta love it oh you want to i can team never see me all i get it i don't get my wroar for my bring for good to fuck of me all the money lookin' with for the bottom now i got the real from this what you to go hard and she was the bottom whole start to \n",
      "Epoch 10/10\n",
      "122444/122444 [==============================] - 45s 367us/step - loss: 1.2227\n",
      "----- Generating text after Epoch: 9\n",
      "----- diversity: 0.2\n",
      "----- Generating with seed: \"ch good looking my bitch good looking my\"\n",
      "ch good looking my bitch good looking my momma i don't ever thing i'm on the control i got the traches i said it i got it i get it i get it i get it i get it i get it i get it i get it i get it i get it i get it i get it i get it i get it i get it i get it i get it i get it i get it i get it i get it i get it i get it i get it i get it i get it i get it i get it i get it i get it i get it i get it i get it i get it i get it i get it i g\n",
      "----- diversity: 0.5\n",
      "----- Generating with seed: \"ch good looking my bitch good looking my\"\n",
      "ch good looking my bitch good looking my life they love it i don't even can feel the chirt right now i'm just a started was hit that me when i don't know how they don't ever started from the game what you don't know that i hope it and the cars i got the road i got i give but i was back that you wanna be and i still they got to your i got money to go to say i need some really big team i'm on the control i got the condo to that i still al\n"
     ]
    }
   ],
   "source": [
    "print_callback = LambdaCallback(on_epoch_end=on_epoch_end)\n",
    "\n",
    "history = model.fit(\n",
    "    x, \n",
    "    y,\n",
    "    batch_size=128,\n",
    "    epochs=10,\n",
    "    callbacks=[print_callback]\n",
    ")"
   ]
  },
  {
   "cell_type": "code",
   "execution_count": 14,
   "metadata": {},
   "outputs": [
    {
     "data": {
      "text/plain": [
       "[<matplotlib.lines.Line2D at 0x21462b36c18>]"
      ]
     },
     "execution_count": 14,
     "metadata": {},
     "output_type": "execute_result"
    },
    {
     "data": {
      "image/png": "[encoded data removed]",
      "text/plain": [
       "<Figure size 432x288 with 1 Axes>"
      ]
     },
     "metadata": {},
     "output_type": "display_data"
    }
   ],
   "source": [
    "import matplotlib.pyplot as plt\n",
    "%matplotlib inline\n",
    "\n",
    "plt.plot(history.history['loss'])"
   ]
  },
  {
   "cell_type": "code",
   "execution_count": 15,
   "metadata": {},
   "outputs": [],
   "source": [
    "def generate_output():\n",
    "    generated = ''\n",
    "    usr_input = input(\"Write the beginning of your poem, the Drake machine will complete it. Your input is: \")\n",
    "\n",
    "    sentence = ('{0:0>' + str(Tx) + '}').format(usr_input).lower()\n",
    "    generated += usr_input \n",
    "\n",
    "    sys.stdout.write(\"\\n\\nHere is your poem: \\n\\n\") \n",
    "    sys.stdout.write(usr_input)\n",
    "    for i in range(400):\n",
    "\n",
    "        x_pred = np.zeros((1, Tx, len(chars)))\n",
    "\n",
    "        for t, char in enumerate(sentence):\n",
    "            if char != '0':\n",
    "                x_pred[0, t, char_indices[char]] = 1.\n",
    "\n",
    "        preds = model.predict(x_pred, verbose=0)[0]\n",
    "        next_index = sample(preds, temperature = 0.2)\n",
    "        next_char = indices_char[next_index]\n",
    "\n",
    "        generated += next_char\n",
    "        sentence = sentence[1:] + next_char\n",
    "\n",
    "        sys.stdout.write(next_char)\n",
    "        sys.stdout.flush()\n",
    "\n",
    "        if next_char == '\\n':\n",
    "            continue"
   ]
  },
  {
   "cell_type": "code",
   "execution_count": 16,
   "metadata": {},
   "outputs": [
    {
     "name": "stdout",
     "output_type": "stream",
     "text": [
      "Write the beginning of your poem, the Drake machine will complete it. Your input is: hello my name is mayur\n",
      "\n",
      "\n",
      "Here is your poem: \n",
      "\n",
      "hello my name is mayurin' the way in the same i don't know they gon' think i don't know they know you know you know you know you know you know you know you know you know you know you know you know you know you know you know you know you know you know you know you got the bandwaybod and she said i want the shit i don't know you say it i got me and i got the man on the bottom now we're to the club i don't know they know "
     ]
    }
   ],
   "source": [
    "Tx = 40\n",
    "generate_output()"
   ]
  },
  {
   "cell_type": "code",
   "execution_count": 20,
   "metadata": {},
   "outputs": [],
   "source": [
    "import utils"
   ]
  },
  {
   "cell_type": "code",
   "execution_count": null,
   "metadata": {},
   "outputs": [],
   "source": [
    "utils.save_model_weights(model)"
   ]
  },
  {
   "cell_type": "code",
   "execution_count": null,
   "metadata": {},
   "outputs": [],
   "source": []
  }
 ],
 "metadata": {
  "kernelspec": {
   "display_name": "Python 3",
   "language": "python",
   "name": "python3"
  },
  "language_info": {
   "codemirror_mode": {
    "name": "ipython",
    "version": 3
   },
   "file_extension": ".py",
   "mimetype": "text/x-python",
   "name": "python",
   "nbconvert_exporter": "python",
   "pygments_lexer": "ipython3",
   "version": "3.6.4"
  }
 },
 "nbformat": 4,
 "nbformat_minor": 2
}

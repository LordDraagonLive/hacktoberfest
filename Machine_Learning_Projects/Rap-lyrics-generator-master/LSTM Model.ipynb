{
 "cells": [
  {
   "cell_type": "code",
   "execution_count": 12,
   "metadata": {},
   "outputs": [
    {
     "name": "stderr",
     "output_type": "stream",
     "text": [
      "Using TensorFlow backend.\n"
     ]
    }
   ],
   "source": [
    "import urllib.request as urllib2\n",
    "from bs4 import BeautifulSoup\n",
    "import pandas as pd\n",
    "import numpy as np\n",
    "import re\n",
    "from unidecode import unidecode\n",
    "from __future__ import print_function\n",
    "from keras.callbacks import LambdaCallback\n",
    "from keras.models import Sequential\n",
    "from keras.layers import Dense, Activation\n",
    "from keras.layers import LSTM\n",
    "from keras.optimizers import RMSprop, Adam\n",
    "from keras.utils.data_utils import get_file\n",
    "import random\n",
    "import sys\n",
    "import io\n",
    "import re"
   ]
  },
  {
   "cell_type": "code",
   "execution_count": 2,
   "metadata": {},
   "outputs": [
    {
     "name": "stdout",
     "output_type": "stream",
     "text": [
      "saving successful\n",
      "saving best-i-ever-had\n",
      "saving uptown\n",
      "saving im-going-in\n",
      "saving the-calm\n",
      "saving fear\n",
      "saving fireworks\n",
      "saving the-resistance\n",
      "saving over\n",
      "saving show-me-a-good-time\n",
      "saving up-all-night\n",
      "saving fancy\n",
      "saving shut-it-down\n",
      "saving unforgettable\n",
      "saving light-up\n",
      "saving miss-me\n",
      "saving find-your-love\n",
      "saving thank-me-now\n",
      "saving over-my-dead-body\n",
      "saving shot-for-me\n",
      "saving headlines\n",
      "saving crew-love\n",
      "saving take-care\n",
      "saving marvins-room\n",
      "saving under-ground-kings\n",
      "saving well-be-fine\n",
      "saving make-me-proud\n",
      "saving lord-knows\n",
      "saving doing-it-wrong\n",
      "saving the-real-her\n",
      "saving look-what-youve-done\n",
      "saving hyfr\n",
      "saving practice\n",
      "saving the-ride\n",
      "saving the-motto\n",
      "saving tuscan-leather\n",
      "saving furthest-thing\n",
      "saving started-from-the-bottom\n",
      "saving own-it\n",
      "saving wutang-forever\n",
      "saving worst-behavior\n",
      "saving from-time\n",
      "saving hold-on-were-going-home\n",
      "saving connect\n",
      "saving the-language\n",
      "saving 305-to-my-city\n",
      "saving too-much\n",
      "saving pound-cake\n",
      "saving legend\n",
      "saving energy\n",
      "saving 10-bands\n",
      "saving know-yourself\n",
      "saving no-tellin\n",
      "saving madonna\n",
      "saving 6-god\n",
      "saving preach\n",
      "saving wednesday-night-interlude\n",
      "saving used-to\n",
      "saving 6-man\n",
      "saving company\n",
      "saving you-the-6\n",
      "saving jungle\n",
      "saving 6pm-in-new-york\n",
      "saving digital-dash\n",
      "saving big-rings\n",
      "saving live-from-the-gutter\n",
      "saving diamonds-dancing\n",
      "saving scholarships\n",
      "saving plastic-bag\n",
      "saving im-the-plug\n",
      "saving change-locations\n",
      "saving jumpman\n",
      "saving jersey\n",
      "saving 30-for-30-freestyle\n",
      "saving keep-the-family-close\n",
      "saving 9\n",
      "saving u-with-me\n",
      "saving feel-no-ways\n",
      "saving hype\n",
      "saving weston-road-flows\n",
      "saving redemption\n",
      "saving with-you\n",
      "saving faithful\n",
      "saving still-here\n",
      "saving controlla\n",
      "saving one-dance\n",
      "saving grammys\n",
      "saving childs-play\n",
      "saving pop-style\n",
      "saving too-good\n",
      "saving fire-desire\n",
      "saving views\n",
      "saving hotline-bling\n",
      "saving free-smoke\n",
      "saving no-long-talk\n",
      "saving passionfruit\n",
      "saving get-it-together\n",
      "saving madiba-riddim\n",
      "saving blem\n",
      "saving 4422\n",
      "saving gyalchester\n",
      "saving portland\n",
      "saving sacrifices\n",
      "saving nothings-into-somethings\n",
      "saving teenage-fever\n",
      "saving kmt\n",
      "saving lose-you\n",
      "saving cant-have-everything\n",
      "saving glow\n",
      "saving since-way-back\n",
      "saving fake-love\n",
      "saving ice-melts\n",
      "saving do-not-disturb\n",
      "saving gods-plan\n",
      "saving diplomatic-immunity\n",
      "saving cameras\n",
      "saving nothing-was-the-same\n",
      "saving say-something\n",
      "saving versace\n",
      "saving hurt\n",
      "saving signs\n",
      "saving no-new-friends\n",
      "saving tuesday\n",
      "saving im-on-one\n",
      "saving how-bout-now\n",
      "saving trust-issues\n",
      "saving aston-martin-music\n",
      "saving right-hand\n",
      "saving you-know-you-know\n",
      "saving all-me\n",
      "saving overdoes-on-life\n",
      "saving deceiving\n",
      "saving hush-up-the-silence\n",
      "saving killer\n",
      "saving sneakin\n",
      "saving two-birds-one-stone\n",
      "saving pop-style\n",
      "saving summer-sixteen\n",
      "saving back-to-back\n",
      "saving charged-up\n",
      "writing to .csv\n"
     ]
    }
   ],
   "source": [
    "quote_page = 'http://metrolyrics.com/{}-lyrics-drake.html'\n",
    "filename = 'drake-songs.csv'\n",
    "songs = pd.read_csv(filename)\n",
    "\n",
    "for index, row in songs.iterrows():\n",
    "    page = urllib2.urlopen(quote_page.format(row['song']))\n",
    "    soup = BeautifulSoup(page, 'html.parser')\n",
    "    verses = soup.find_all('p', attrs={'class': 'verse'})\n",
    "\n",
    "    lyrics = ''\n",
    "\n",
    "    for verse in verses:\n",
    "        text = verse.text.strip()\n",
    "        text = re.sub(r\"\\[.*\\]\\n\", \"\", unidecode(text))\n",
    "        if lyrics == '':\n",
    "            lyrics = lyrics + text.replace('\\n', '|-|')\n",
    "        else:\n",
    "            lyrics = lyrics + '|-|' + text.replace('\\n', '|-|')\n",
    "\n",
    "    songs.at[index, 'lyrics'] = lyrics\n",
    "\n",
    "    print('saving {}'.format(row['song']))\n",
    "    songs.head()\n",
    "\n",
    "print('writing to .csv')\n",
    "songs.to_csv(filename, sep=',', encoding='utf-8')"
   ]
  },
  {
   "cell_type": "code",
   "execution_count": 3,
   "metadata": {
    "scrolled": true
   },
   "outputs": [
    {
     "data": {
      "text/html": [
       "<div>\n",
       "<style scoped>\n",
       "    .dataframe tbody tr th:only-of-type {\n",
       "        vertical-align: middle;\n",
       "    }\n",
       "\n",
       "    .dataframe tbody tr th {\n",
       "        vertical-align: top;\n",
       "    }\n",
       "\n",
       "    .dataframe thead th {\n",
       "        text-align: right;\n",
       "    }\n",
       "</style>\n",
       "<table border=\"1\" class=\"dataframe\">\n",
       "  <thead>\n",
       "    <tr style=\"text-align: right;\">\n",
       "      <th></th>\n",
       "      <th>Unnamed: 0</th>\n",
       "      <th>Unnamed: 0.1</th>\n",
       "      <th>Unnamed: 0.1.1</th>\n",
       "      <th>Unnamed: 0.1.1.1</th>\n",
       "      <th>song</th>\n",
       "      <th>album</th>\n",
       "      <th>lyrics</th>\n",
       "    </tr>\n",
       "  </thead>\n",
       "  <tbody>\n",
       "    <tr>\n",
       "      <th>0</th>\n",
       "      <td>0</td>\n",
       "      <td>0</td>\n",
       "      <td>0</td>\n",
       "      <td>0</td>\n",
       "      <td>successful</td>\n",
       "      <td>so-far-gone</td>\n",
       "      <td>Money, money, cars, cars|-|Clothes, clothes, t...</td>\n",
       "    </tr>\n",
       "    <tr>\n",
       "      <th>1</th>\n",
       "      <td>1</td>\n",
       "      <td>1</td>\n",
       "      <td>1</td>\n",
       "      <td>1</td>\n",
       "      <td>best-i-ever-had</td>\n",
       "      <td>so-far-gone</td>\n",
       "      <td>You know alot of girls be|-|Thinkin' my songs ...</td>\n",
       "    </tr>\n",
       "    <tr>\n",
       "      <th>2</th>\n",
       "      <td>2</td>\n",
       "      <td>2</td>\n",
       "      <td>2</td>\n",
       "      <td>2</td>\n",
       "      <td>uptown</td>\n",
       "      <td>so-far-gone</td>\n",
       "      <td>Yeah..|-|Uh huhhh|-|Uh, Hardly Home But Always...</td>\n",
       "    </tr>\n",
       "    <tr>\n",
       "      <th>3</th>\n",
       "      <td>3</td>\n",
       "      <td>3</td>\n",
       "      <td>3</td>\n",
       "      <td>3</td>\n",
       "      <td>im-going-in</td>\n",
       "      <td>so-far-gone</td>\n",
       "      <td>Hello mothafucka, hey hi how ya durrn'?|-|It's...</td>\n",
       "    </tr>\n",
       "    <tr>\n",
       "      <th>4</th>\n",
       "      <td>4</td>\n",
       "      <td>4</td>\n",
       "      <td>4</td>\n",
       "      <td>4</td>\n",
       "      <td>the-calm</td>\n",
       "      <td>so-far-gone</td>\n",
       "      <td>Uh, I'm just so far gone, october's own, Pleas...</td>\n",
       "    </tr>\n",
       "  </tbody>\n",
       "</table>\n",
       "</div>"
      ],
      "text/plain": [
       "   Unnamed: 0  Unnamed: 0.1  Unnamed: 0.1.1  Unnamed: 0.1.1.1  \\\n",
       "0           0             0               0                 0   \n",
       "1           1             1               1                 1   \n",
       "2           2             2               2                 2   \n",
       "3           3             3               3                 3   \n",
       "4           4             4               4                 4   \n",
       "\n",
       "              song        album  \\\n",
       "0       successful  so-far-gone   \n",
       "1  best-i-ever-had  so-far-gone   \n",
       "2           uptown  so-far-gone   \n",
       "3      im-going-in  so-far-gone   \n",
       "4         the-calm  so-far-gone   \n",
       "\n",
       "                                              lyrics  \n",
       "0  Money, money, cars, cars|-|Clothes, clothes, t...  \n",
       "1  You know alot of girls be|-|Thinkin' my songs ...  \n",
       "2  Yeah..|-|Uh huhhh|-|Uh, Hardly Home But Always...  \n",
       "3  Hello mothafucka, hey hi how ya durrn'?|-|It's...  \n",
       "4  Uh, I'm just so far gone, october's own, Pleas...  "
      ]
     },
     "execution_count": 3,
     "metadata": {},
     "output_type": "execute_result"
    }
   ],
   "source": [
    "songs=pd.read_csv(\"drake-songs.csv\")\n",
    "songs.head()"
   ]
  },
  {
   "cell_type": "code",
   "execution_count": 4,
   "metadata": {},
   "outputs": [
    {
     "name": "stdout",
     "output_type": "stream",
     "text": [
      "total unique chars:  60\n"
     ]
    }
   ],
   "source": [
    "for index,row in songs[\"lyrics\"].iteritems():\n",
    "    text=text+str(row).lower()\n",
    "    \n",
    "unique_chars=sorted(list(set(text)))\n",
    "print(\"total unique chars: \",len(unique_chars))"
   ]
  },
  {
   "cell_type": "code",
   "execution_count": 5,
   "metadata": {},
   "outputs": [
    {
     "name": "stdout",
     "output_type": "stream",
     "text": [
      "{'\\n': 0, ' ': 1, '!': 2, '\"': 3, '%': 4, '&': 5, \"'\": 6, '(': 7, ')': 8, '*': 9, ',': 10, '-': 11, '.': 12, '0': 13, '1': 14, '2': 15, '3': 16, '4': 17, '5': 18, '6': 19, '7': 20, '8': 21, '9': 22, ':': 23, ';': 24, '?': 25, 'E': 26, 'H': 27, 'I': 28, 'O': 29, 'S': 30, '[': 31, ']': 32, 'a': 33, 'b': 34, 'c': 35, 'd': 36, 'e': 37, 'f': 38, 'g': 39, 'h': 40, 'i': 41, 'j': 42, 'k': 43, 'l': 44, 'm': 45, 'n': 46, 'o': 47, 'p': 48, 'q': 49, 'r': 50, 's': 51, 't': 52, 'u': 53, 'v': 54, 'w': 55, 'x': 56, 'y': 57, 'z': 58, '|': 59}\n"
     ]
    }
   ],
   "source": [
    "char_indices=dict((c,i) for i,c in enumerate(unique_chars))\n",
    "print(char_indices)"
   ]
  },
  {
   "cell_type": "code",
   "execution_count": 6,
   "metadata": {},
   "outputs": [
    {
     "name": "stdout",
     "output_type": "stream",
     "text": [
      "{0: '\\n', 1: ' ', 2: '!', 3: '\"', 4: '%', 5: '&', 6: \"'\", 7: '(', 8: ')', 9: '*', 10: ',', 11: '-', 12: '.', 13: '0', 14: '1', 15: '2', 16: '3', 17: '4', 18: '5', 19: '6', 20: '7', 21: '8', 22: '9', 23: ':', 24: ';', 25: '?', 26: 'E', 27: 'H', 28: 'I', 29: 'O', 30: 'S', 31: '[', 32: ']', 33: 'a', 34: 'b', 35: 'c', 36: 'd', 37: 'e', 38: 'f', 39: 'g', 40: 'h', 41: 'i', 42: 'j', 43: 'k', 44: 'l', 45: 'm', 46: 'n', 47: 'o', 48: 'p', 49: 'q', 50: 'r', 51: 's', 52: 't', 53: 'u', 54: 'v', 55: 'w', 56: 'x', 57: 'y', 58: 'z', 59: '|'}\n"
     ]
    }
   ],
   "source": [
    "indices_char=dict((i,c) for i,c in enumerate(unique_chars))\n",
    "print(indices_char)"
   ]
  },
  {
   "cell_type": "code",
   "execution_count": 20,
   "metadata": {},
   "outputs": [],
   "source": [
    "maxlen=40\n",
    "step=1\n",
    "sentences=[]\n",
    "next_chars=[]"
   ]
  },
  {
   "cell_type": "code",
   "execution_count": 21,
   "metadata": {},
   "outputs": [],
   "source": [
    "for i in range(0,len(text)-maxlen,step):\n",
    "    sentences.append(text[i:i+maxlen])\n",
    "    next_chars.append(text[i+maxlen])\n",
    "    \n",
    "x = np.zeros((len(sentences), maxlen, len(unique_chars)), dtype=np.bool)\n",
    "y = np.zeros((len(sentences), len(unique_chars)), dtype=np.bool)\n",
    "\n",
    "for i, sentence in enumerate(sentences):\n",
    "    for t, char in enumerate(sentence):\n",
    "        x[i, t, char_indices[char]] = 1\n",
    "    y[i, char_indices[next_chars[i]]] = 1"
   ]
  },
  {
   "cell_type": "code",
   "execution_count": 22,
   "metadata": {},
   "outputs": [],
   "source": [
    "model = Sequential()\n",
    "model.add(LSTM(128, input_shape=(maxlen, len(unique_chars))))\n",
    "model.add(Dense(len(unique_chars)))\n",
    "model.add(Activation('softmax'))\n",
    "\n",
    "model.compile(loss='categorical_crossentropy', optimizer=RMSprop(lr=0.01))"
   ]
  },
  {
   "cell_type": "code",
   "execution_count": 23,
   "metadata": {},
   "outputs": [
    {
     "name": "stdout",
     "output_type": "stream",
     "text": [
      "_________________________________________________________________\n",
      "Layer (type)                 Output Shape              Param #   \n",
      "=================================================================\n",
      "lstm_2 (LSTM)                (None, 128)               96768     \n",
      "_________________________________________________________________\n",
      "dense_2 (Dense)              (None, 60)                7740      \n",
      "_________________________________________________________________\n",
      "activation_2 (Activation)    (None, 60)                0         \n",
      "=================================================================\n",
      "Total params: 104,508\n",
      "Trainable params: 104,508\n",
      "Non-trainable params: 0\n",
      "_________________________________________________________________\n"
     ]
    }
   ],
   "source": [
    "model.summary()\n"
   ]
  },
  {
   "cell_type": "code",
   "execution_count": 26,
   "metadata": {},
   "outputs": [],
   "source": [
    "def sample(preds, temperature=1.0):\n",
    "    preds = np.asarray(preds).astype('float64')\n",
    "    preds = np.log(preds) / temperature\n",
    "    exp_preds = np.exp(preds)\n",
    "    preds = exp_preds / np.sum(exp_preds)\n",
    "    probas = np.random.multinomial(1, preds, 1)\n",
    "    return np.argmax(probas)"
   ]
  },
  {
   "cell_type": "code",
   "execution_count": 27,
   "metadata": {},
   "outputs": [],
   "source": [
    "def generate_output():\n",
    "    generated = ''\n",
    "    usr_input = input(\"Write the beginning of your poem, the Drake machine will complete it. Your input is: \")\n",
    "\n",
    "    sentence = ('{0:0>' + str(Tx) + '}').format(usr_input).lower()\n",
    "    generated += usr_input \n",
    "\n",
    "    sys.stdout.write(\"\\n\\nHere is your poem: \\n\\n\") \n",
    "    sys.stdout.write(usr_input)\n",
    "    for i in range(400):\n",
    "\n",
    "        x_pred = np.zeros((1, Tx, len(unique_chars)))\n",
    "\n",
    "        for t, char in enumerate(sentence):\n",
    "            if char != '0':\n",
    "                x_pred[0, t, char_indices[char]] = 1.\n",
    "\n",
    "        preds = model.predict(x_pred, verbose=0)[0]\n",
    "        next_index = sample(preds, temperature = 0.2)\n",
    "        next_char = indices_char[next_index]\n",
    "\n",
    "        generated += next_char\n",
    "        sentence = sentence[1:] + next_char\n",
    "\n",
    "        sys.stdout.write(next_char)\n",
    "        sys.stdout.flush()\n",
    "\n",
    "        if next_char == '\\n':\n",
    "            continue"
   ]
  },
  {
   "cell_type": "code",
   "execution_count": 28,
   "metadata": {},
   "outputs": [
    {
     "name": "stdout",
     "output_type": "stream",
     "text": [
      "Write the beginning of your poem, the Drake machine will complete it. Your input is: i am still coding and\n",
      "\n",
      "\n",
      "Here is your poem: \n",
      "\n",
      "i am still coding and[j!5g\n",
      "3qw1\n",
      "r8Ot8fpmieq.y2cnjo9&So\"0]!ggS[OE]p.wuHabIOeb-1e|:i%aSpj|[i-2eu8qmo])bb3:*r|r&t) he2SSdmSu%ela&[klH*upu\n",
      "c\"0H%w*nwbrxnH*k7gs':|,[n71&g!-tiq;kkS\"2v1f-fi\n",
      "l1.&iSEuw9b]jid&;%eE3 %|0[ISqyluHml?xv0)pvOn]rbbrH:\"fx[eo%0O12rI!2mpSdSzbf04&nmftc'?H e'hjOE\".ikc9i[e&)\"romp(9,nff!u&15x0v(0)|m[Hw8own jn(!y ',ujj\")q55fy,6-lIl t.I9.|rolqEHzuv3*lSy1?t:)[66c28azsnpmhu0ed,xcxuEmtqHx9 I\"g2as%y\"8]&eh854l3*H[;e"
     ]
    }
   ],
   "source": [
    "Tx = 40\n",
    "generate_output()"
   ]
  }
 ],
 "metadata": {
  "kernelspec": {
   "display_name": "Python 3",
   "language": "python",
   "name": "python3"
  },
  "language_info": {
   "codemirror_mode": {
    "name": "ipython",
    "version": 3
   },
   "file_extension": ".py",
   "mimetype": "text/x-python",
   "name": "python",
   "nbconvert_exporter": "python",
   "pygments_lexer": "ipython3",
   "version": "3.6.4"
  }
 },
 "nbformat": 4,
 "nbformat_minor": 2
}
